{
 "cells": [
  {
   "cell_type": "code",
   "execution_count": 11,
   "metadata": {},
   "outputs": [
    {
     "name": "stdout",
     "output_type": "stream",
     "text": [
      "Enter Name =Hafiz Manfaz Ali\n",
      "Enter ID =4477\n",
      "Roll Number =12704\n",
      "Course Name =A.I\n",
      "Enter Institute Name =GCUF\n",
      "Enter Skills =C++,Python,C,Java\n"
     ]
    }
   ],
   "source": [
    "d ={}\n",
    "d[\"Name\"]        =input(\"Enter Name =\")\n",
    "d[\"ID\"]          =input(\"Enter ID =\")\n",
    "d[\"Roll_Number\"] =input(\"Roll Number =\")\n",
    "d[\"Course\"]      =input(\"Course Name =\")\n",
    "d[\"Institute\"]   =input(\"Enter Institute Name =\")\n",
    "d[\"skills\"]      =input(\"Enter Skills =\").split()"
   ]
  },
  {
   "cell_type": "code",
   "execution_count": 12,
   "metadata": {},
   "outputs": [
    {
     "name": "stdout",
     "output_type": "stream",
     "text": [
      "{'Name': 'Hafiz Manfaz Ali', 'ID': '4477', 'Roll_Number': '12704', 'Course': 'A.I', 'Institute': 'GCUF', 'skills': ['C++,Python,C,Java']}\n"
     ]
    }
   ],
   "source": [
    "print(d)"
   ]
  },
  {
   "cell_type": "code",
   "execution_count": 13,
   "metadata": {},
   "outputs": [
    {
     "name": "stdout",
     "output_type": "stream",
     "text": [
      "Hafiz Manfaz Ali\n"
     ]
    }
   ],
   "source": [
    "print(d[\"Name\"])"
   ]
  },
  {
   "cell_type": "code",
   "execution_count": null,
   "metadata": {},
   "outputs": [],
   "source": []
  }
 ],
 "metadata": {
  "kernelspec": {
   "display_name": "Python 3",
   "language": "python",
   "name": "python3"
  },
  "language_info": {
   "codemirror_mode": {
    "name": "ipython",
    "version": 3
   },
   "file_extension": ".py",
   "mimetype": "text/x-python",
   "name": "python",
   "nbconvert_exporter": "python",
   "pygments_lexer": "ipython3",
   "version": "3.7.4"
  }
 },
 "nbformat": 4,
 "nbformat_minor": 2
}
